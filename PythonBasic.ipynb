{
  "nbformat": 4,
  "nbformat_minor": 0,
  "metadata": {
    "colab": {
      "provenance": [],
      "authorship_tag": "ABX9TyN0XYNHZRn0ddKop48N2L/r",
      "include_colab_link": true
    },
    "kernelspec": {
      "name": "python3",
      "display_name": "Python 3"
    },
    "language_info": {
      "name": "python"
    }
  },
  "cells": [
    {
      "cell_type": "markdown",
      "metadata": {
        "id": "view-in-github",
        "colab_type": "text"
      },
      "source": [
        "<a href=\"https://colab.research.google.com/github/farid22022/Basic-Python/blob/main/PythonBasic.ipynb\" target=\"_parent\"><img src=\"https://colab.research.google.com/assets/colab-badge.svg\" alt=\"Open In Colab\"/></a>"
      ]
    },
    {
      "cell_type": "markdown",
      "source": [
        "Write a Python program to print \"Hello Python\"."
      ],
      "metadata": {
        "id": "hNS7Fiumzz8_"
      }
    },
    {
      "cell_type": "code",
      "execution_count": 2,
      "metadata": {
        "colab": {
          "base_uri": "https://localhost:8080/"
        },
        "id": "Uz-hZfc8zup1",
        "outputId": "77d13ed0-4cca-4292-b113-05e56ac5ee6c"
      },
      "outputs": [
        {
          "output_type": "stream",
          "name": "stdout",
          "text": [
            "Hello World!\n"
          ]
        }
      ],
      "source": [
        "print(\"Hello World!\")"
      ]
    },
    {
      "cell_type": "markdown",
      "source": [
        "Write a Python program to do arithmetical operations addition and division."
      ],
      "metadata": {
        "id": "ulm3-n7h0BnA"
      }
    },
    {
      "cell_type": "code",
      "source": [
        "#Addition\n",
        "num1 = float(input(\"Enter the first number : \"))\n",
        "num2 = float(input(\"Enter the second number : \"))\n",
        "print(num1+num2)\n",
        "print(f\"sum of {num1} + {num2} = {num1+num2}\")"
      ],
      "metadata": {
        "colab": {
          "base_uri": "https://localhost:8080/"
        },
        "id": "mGqIPJnaz9iU",
        "outputId": "462de4ef-f438-4f18-aa3a-ce63a472450f"
      },
      "execution_count": 4,
      "outputs": [
        {
          "output_type": "stream",
          "name": "stdout",
          "text": [
            "Enter the first number : 1\n",
            "Enter the second number : 2\n",
            "3.0\n",
            "sum : 1.0 + 2.0 = 3.0\n"
          ]
        }
      ]
    },
    {
      "cell_type": "code",
      "source": [
        "#Division\n",
        "num3 = float(input(\"Enter the first number : \"))\n",
        "num4 = float(input(\"Enter the second number : \"))\n",
        "\n",
        "if num4 == 0:\n",
        "  print('Error ')\n",
        "else:\n",
        "  print(f\"{num3/num4}\")"
      ],
      "metadata": {
        "colab": {
          "base_uri": "https://localhost:8080/"
        },
        "id": "sFVCTxvW0Zbn",
        "outputId": "761bb7f2-87f5-43ff-bea3-b4f0d5563e37"
      },
      "execution_count": 5,
      "outputs": [
        {
          "output_type": "stream",
          "name": "stdout",
          "text": [
            "Enter the first number : 2\n",
            "Enter the second number : 1\n",
            "2.0\n"
          ]
        }
      ]
    },
    {
      "cell_type": "markdown",
      "source": [
        "Write a Python program to find the area of a triangle."
      ],
      "metadata": {
        "id": "EihT_tLz1QFy"
      }
    },
    {
      "cell_type": "code",
      "source": [
        "base = float(input(\"input the base: \"))\n",
        "height = float(input(\"input the height: \"))\n",
        "print(f\" Are is {.5*base*height}\")"
      ],
      "metadata": {
        "colab": {
          "base_uri": "https://localhost:8080/"
        },
        "id": "ol11eS4Y1LUO",
        "outputId": "0385112f-105c-44f6-e7f5-b6aacf46da52"
      },
      "execution_count": 6,
      "outputs": [
        {
          "output_type": "stream",
          "name": "stdout",
          "text": [
            "input the base: 10\n",
            "input the height: 10\n",
            " Are is 50.0\n"
          ]
        }
      ]
    },
    {
      "cell_type": "markdown",
      "source": [
        " Write a Python program to swap two variables."
      ],
      "metadata": {
        "id": "ULoL5mNT1rD6"
      }
    },
    {
      "cell_type": "code",
      "source": [
        "a = float(input(\"Input the first number: \"))\n",
        "b = float(input(\"Input the second number: \"))\n",
        "c =a+b\n",
        "print(a,b)\n",
        "a = c-a\n",
        "b=c-b\n",
        "print(a,b)"
      ],
      "metadata": {
        "colab": {
          "base_uri": "https://localhost:8080/"
        },
        "id": "ev674_KZ1php",
        "outputId": "6606e2db-27ff-4c53-9da0-5f05a4ae128b"
      },
      "execution_count": 9,
      "outputs": [
        {
          "output_type": "stream",
          "name": "stdout",
          "text": [
            "Input the first number: 1\n",
            "Input the second number: 2\n",
            "1.0 2.0\n",
            "2.0 1.0\n"
          ]
        }
      ]
    },
    {
      "cell_type": "markdown",
      "source": [
        " Write a Python program to generate a random number."
      ],
      "metadata": {
        "id": "nb0x4DND2UDw"
      }
    },
    {
      "cell_type": "code",
      "source": [
        "import random\n",
        "print(f\" Random number: {random.randint(1,10)}\")"
      ],
      "metadata": {
        "colab": {
          "base_uri": "https://localhost:8080/"
        },
        "id": "ghuh7g4Z2GYZ",
        "outputId": "2546f849-764c-4188-fe14-9a786ce88d4d"
      },
      "execution_count": 11,
      "outputs": [
        {
          "output_type": "stream",
          "name": "stdout",
          "text": [
            " Random number: 2\n"
          ]
        }
      ]
    },
    {
      "cell_type": "markdown",
      "source": [
        "Write a Python program to convert kilometers to miles."
      ],
      "metadata": {
        "id": "musZ-FEL21lz"
      }
    },
    {
      "cell_type": "code",
      "source": [
        "km = float(input())\n",
        "print(.621371*km)"
      ],
      "metadata": {
        "colab": {
          "base_uri": "https://localhost:8080/"
        },
        "id": "T7KTOS7k2tqk",
        "outputId": "430f2f3d-b773-45bd-a1af-7201064c1047"
      },
      "execution_count": 15,
      "outputs": [
        {
          "output_type": "stream",
          "name": "stdout",
          "text": [
            "10\n",
            "6.21371\n"
          ]
        }
      ]
    },
    {
      "cell_type": "markdown",
      "source": [
        "Write a Python program to convert Celsius to Fahrenheit."
      ],
      "metadata": {
        "id": "AYd3ayHI3Ov9"
      }
    },
    {
      "cell_type": "code",
      "source": [
        "celsius = float(input(\"INput the temperature in float: \"))\n",
        "fahrenheit = (celsius*9/5)+32\n",
        "print(f\" Temperature in Fahrenheit: {fahrenheit}\")"
      ],
      "metadata": {
        "colab": {
          "base_uri": "https://localhost:8080/"
        },
        "id": "TiyL8uu73DFG",
        "outputId": "e77cadc3-c600-47df-9bc2-0828a60da917"
      },
      "execution_count": 17,
      "outputs": [
        {
          "output_type": "stream",
          "name": "stdout",
          "text": [
            "INput the temperature in float: 104.5\n",
            " Temperature in Fahrenheit: 220.1\n"
          ]
        }
      ]
    },
    {
      "cell_type": "markdown",
      "source": [
        "Write a Python program to display calendar."
      ],
      "metadata": {
        "id": "zNhEzaRl3yIk"
      }
    },
    {
      "cell_type": "code",
      "source": [
        "import calendar\n",
        "\n",
        "year = int(input(\"Enter the year: \"))\n",
        "month = int(input(\"Enter the month: \"))\n",
        "\n",
        "cal = calendar.month(year,month)\n",
        "print(cal)"
      ],
      "metadata": {
        "colab": {
          "base_uri": "https://localhost:8080/"
        },
        "id": "6L-KA_1A3go0",
        "outputId": "a6e134dd-f335-4f89-e563-0bc13ff2eac5"
      },
      "execution_count": 19,
      "outputs": [
        {
          "output_type": "stream",
          "name": "stdout",
          "text": [
            "Enter the year: 2003\n",
            "Enter the month: 10\n",
            "    October 2003\n",
            "Mo Tu We Th Fr Sa Su\n",
            "       1  2  3  4  5\n",
            " 6  7  8  9 10 11 12\n",
            "13 14 15 16 17 18 19\n",
            "20 21 22 23 24 25 26\n",
            "27 28 29 30 31\n",
            "\n"
          ]
        }
      ]
    },
    {
      "cell_type": "markdown",
      "source": [
        " Write a Python program to solve quadratic equation."
      ],
      "metadata": {
        "id": "L3wfw54C4XLS"
      }
    },
    {
      "cell_type": "code",
      "source": [
        "import math\n",
        "\n",
        "print('a*x*x + b*x + c = 0')\n",
        "a = float(input(\"Input a: \"))\n",
        "b = float(input(\"Input b: \"))\n",
        "c = float(input(\"Input c: \"))\n",
        "\n",
        "discriminant = b**2 - 4*a*c\n",
        "\n",
        "if discriminant > 0:\n",
        "  root1 = (-b+math.sqrt(discriminant))/(2*a)\n",
        "  root2 = (-b-math.sqrt(discriminant))/(2*a)\n",
        "\n",
        "  print(f\"Root 1 : {root1}\")\n",
        "  print(f\"Root 2 : {root2}\")\n",
        "\n",
        "elif discriminant == 0:\n",
        "  root = -b/(2*a)\n",
        "\n",
        "  print(f\"Root : {root}\")\n",
        "\n",
        "else:\n",
        "  real_part = -b/(2*a)\n",
        "  imaginary_part = math.sqrt(abs(discriminant)) / 2*a\n",
        "  print(f\"Root 1: {real_part} + {imaginary_part}i\")\n",
        "  print(f\"Root 2: {real_part} - {imaginary_part}i\")"
      ],
      "metadata": {
        "colab": {
          "base_uri": "https://localhost:8080/"
        },
        "id": "ahjk1aQl4Ldf",
        "outputId": "d16b5be3-9159-4920-fb2f-b891a961e2a1"
      },
      "execution_count": 21,
      "outputs": [
        {
          "output_type": "stream",
          "name": "stdout",
          "text": [
            "a*x*x + b*x + c = 0\n",
            "Input a: 1\n",
            "Input b: 4\n",
            "Input c: 8\n",
            "Root 1: -2.0 + 2.0i\n",
            "Root 2: -2.0 - 2.0i\n"
          ]
        }
      ]
    },
    {
      "cell_type": "markdown",
      "source": [
        " Write a Python program to swap two variables without temp variable."
      ],
      "metadata": {
        "id": "uuaRTrdK7Zat"
      }
    },
    {
      "cell_type": "code",
      "source": [
        "a = 10\n",
        "b = 20\n",
        "a,b = b,a\n",
        "print(a,b)"
      ],
      "metadata": {
        "colab": {
          "base_uri": "https://localhost:8080/"
        },
        "id": "qSoQEVmq7NS9",
        "outputId": "6c7fecd8-36bc-4b3a-b577-c952cf170c16"
      },
      "execution_count": 22,
      "outputs": [
        {
          "output_type": "stream",
          "name": "stdout",
          "text": [
            "20 10\n"
          ]
        }
      ]
    },
    {
      "cell_type": "code",
      "source": [],
      "metadata": {
        "id": "WpFg_U2h7h2J"
      },
      "execution_count": null,
      "outputs": []
    }
  ]
}