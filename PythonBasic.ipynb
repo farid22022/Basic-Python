{
  "nbformat": 4,
  "nbformat_minor": 0,
  "metadata": {
    "colab": {
      "provenance": [],
      "authorship_tag": "ABX9TyPES1w8aP0Q0jgHKGQ5ZsTe",
      "include_colab_link": true
    },
    "kernelspec": {
      "name": "python3",
      "display_name": "Python 3"
    },
    "language_info": {
      "name": "python"
    }
  },
  "cells": [
    {
      "cell_type": "markdown",
      "metadata": {
        "id": "view-in-github",
        "colab_type": "text"
      },
      "source": [
        "<a href=\"https://colab.research.google.com/github/farid22022/Basic-Python/blob/main/PythonBasic.ipynb\" target=\"_parent\"><img src=\"https://colab.research.google.com/assets/colab-badge.svg\" alt=\"Open In Colab\"/></a>"
      ]
    },
    {
      "cell_type": "markdown",
      "source": [
        "Write a Python program to print \"Hello Python\"."
      ],
      "metadata": {
        "id": "hNS7Fiumzz8_"
      }
    },
    {
      "cell_type": "code",
      "execution_count": null,
      "metadata": {
        "colab": {
          "base_uri": "https://localhost:8080/"
        },
        "id": "Uz-hZfc8zup1",
        "outputId": "77d13ed0-4cca-4292-b113-05e56ac5ee6c"
      },
      "outputs": [
        {
          "output_type": "stream",
          "name": "stdout",
          "text": [
            "Hello World!\n"
          ]
        }
      ],
      "source": [
        "print(\"Hello World!\")"
      ]
    },
    {
      "cell_type": "markdown",
      "source": [
        "Write a Python program to do arithmetical operations addition and division."
      ],
      "metadata": {
        "id": "ulm3-n7h0BnA"
      }
    },
    {
      "cell_type": "code",
      "source": [
        "#Addition\n",
        "num1 = float(input(\"Enter the first number : \"))\n",
        "num2 = float(input(\"Enter the second number : \"))\n",
        "print(num1+num2)\n",
        "print(f\"sum of {num1} + {num2} = {num1+num2}\")"
      ],
      "metadata": {
        "colab": {
          "base_uri": "https://localhost:8080/"
        },
        "id": "mGqIPJnaz9iU",
        "outputId": "462de4ef-f438-4f18-aa3a-ce63a472450f"
      },
      "execution_count": null,
      "outputs": [
        {
          "output_type": "stream",
          "name": "stdout",
          "text": [
            "Enter the first number : 1\n",
            "Enter the second number : 2\n",
            "3.0\n",
            "sum : 1.0 + 2.0 = 3.0\n"
          ]
        }
      ]
    },
    {
      "cell_type": "code",
      "source": [
        "#Division\n",
        "num3 = float(input(\"Enter the first number : \"))\n",
        "num4 = float(input(\"Enter the second number : \"))\n",
        "\n",
        "if num4 == 0:\n",
        "  print('Error ')\n",
        "else:\n",
        "  print(f\"{num3/num4}\")"
      ],
      "metadata": {
        "colab": {
          "base_uri": "https://localhost:8080/"
        },
        "id": "sFVCTxvW0Zbn",
        "outputId": "761bb7f2-87f5-43ff-bea3-b4f0d5563e37"
      },
      "execution_count": null,
      "outputs": [
        {
          "output_type": "stream",
          "name": "stdout",
          "text": [
            "Enter the first number : 2\n",
            "Enter the second number : 1\n",
            "2.0\n"
          ]
        }
      ]
    },
    {
      "cell_type": "markdown",
      "source": [
        "Write a Python program to find the area of a triangle."
      ],
      "metadata": {
        "id": "EihT_tLz1QFy"
      }
    },
    {
      "cell_type": "code",
      "source": [
        "base = float(input(\"input the base: \"))\n",
        "height = float(input(\"input the height: \"))\n",
        "print(f\" Are is {.5*base*height}\")"
      ],
      "metadata": {
        "colab": {
          "base_uri": "https://localhost:8080/"
        },
        "id": "ol11eS4Y1LUO",
        "outputId": "0385112f-105c-44f6-e7f5-b6aacf46da52"
      },
      "execution_count": null,
      "outputs": [
        {
          "output_type": "stream",
          "name": "stdout",
          "text": [
            "input the base: 10\n",
            "input the height: 10\n",
            " Are is 50.0\n"
          ]
        }
      ]
    },
    {
      "cell_type": "markdown",
      "source": [
        " Write a Python program to swap two variables."
      ],
      "metadata": {
        "id": "ULoL5mNT1rD6"
      }
    },
    {
      "cell_type": "code",
      "source": [
        "a = float(input(\"Input the first number: \"))\n",
        "b = float(input(\"Input the second number: \"))\n",
        "c =a+b\n",
        "print(a,b)\n",
        "a = c-a\n",
        "b=c-b\n",
        "print(a,b)"
      ],
      "metadata": {
        "colab": {
          "base_uri": "https://localhost:8080/"
        },
        "id": "ev674_KZ1php",
        "outputId": "6606e2db-27ff-4c53-9da0-5f05a4ae128b"
      },
      "execution_count": null,
      "outputs": [
        {
          "output_type": "stream",
          "name": "stdout",
          "text": [
            "Input the first number: 1\n",
            "Input the second number: 2\n",
            "1.0 2.0\n",
            "2.0 1.0\n"
          ]
        }
      ]
    },
    {
      "cell_type": "markdown",
      "source": [
        " Write a Python program to generate a random number."
      ],
      "metadata": {
        "id": "nb0x4DND2UDw"
      }
    },
    {
      "cell_type": "code",
      "source": [
        "import random\n",
        "print(f\" Random number: {random.randint(1,10)}\")"
      ],
      "metadata": {
        "colab": {
          "base_uri": "https://localhost:8080/"
        },
        "id": "ghuh7g4Z2GYZ",
        "outputId": "2546f849-764c-4188-fe14-9a786ce88d4d"
      },
      "execution_count": null,
      "outputs": [
        {
          "output_type": "stream",
          "name": "stdout",
          "text": [
            " Random number: 2\n"
          ]
        }
      ]
    },
    {
      "cell_type": "markdown",
      "source": [
        "Write a Python program to convert kilometers to miles."
      ],
      "metadata": {
        "id": "musZ-FEL21lz"
      }
    },
    {
      "cell_type": "code",
      "source": [
        "km = float(input())\n",
        "print(.621371*km)"
      ],
      "metadata": {
        "colab": {
          "base_uri": "https://localhost:8080/"
        },
        "id": "T7KTOS7k2tqk",
        "outputId": "430f2f3d-b773-45bd-a1af-7201064c1047"
      },
      "execution_count": null,
      "outputs": [
        {
          "output_type": "stream",
          "name": "stdout",
          "text": [
            "10\n",
            "6.21371\n"
          ]
        }
      ]
    },
    {
      "cell_type": "markdown",
      "source": [
        "Write a Python program to convert Celsius to Fahrenheit."
      ],
      "metadata": {
        "id": "AYd3ayHI3Ov9"
      }
    },
    {
      "cell_type": "code",
      "source": [
        "celsius = float(input(\"INput the temperature in float: \"))\n",
        "fahrenheit = (celsius*9/5)+32\n",
        "print(f\" Temperature in Fahrenheit: {fahrenheit}\")"
      ],
      "metadata": {
        "colab": {
          "base_uri": "https://localhost:8080/"
        },
        "id": "TiyL8uu73DFG",
        "outputId": "e77cadc3-c600-47df-9bc2-0828a60da917"
      },
      "execution_count": null,
      "outputs": [
        {
          "output_type": "stream",
          "name": "stdout",
          "text": [
            "INput the temperature in float: 104.5\n",
            " Temperature in Fahrenheit: 220.1\n"
          ]
        }
      ]
    },
    {
      "cell_type": "markdown",
      "source": [
        "Write a Python program to display calendar."
      ],
      "metadata": {
        "id": "zNhEzaRl3yIk"
      }
    },
    {
      "cell_type": "code",
      "source": [
        "import calendar\n",
        "\n",
        "year = int(input(\"Enter the year: \"))\n",
        "month = int(input(\"Enter the month: \"))\n",
        "\n",
        "cal = calendar.month(year,month)\n",
        "print(cal)"
      ],
      "metadata": {
        "colab": {
          "base_uri": "https://localhost:8080/"
        },
        "id": "6L-KA_1A3go0",
        "outputId": "a6e134dd-f335-4f89-e563-0bc13ff2eac5"
      },
      "execution_count": null,
      "outputs": [
        {
          "output_type": "stream",
          "name": "stdout",
          "text": [
            "Enter the year: 2003\n",
            "Enter the month: 10\n",
            "    October 2003\n",
            "Mo Tu We Th Fr Sa Su\n",
            "       1  2  3  4  5\n",
            " 6  7  8  9 10 11 12\n",
            "13 14 15 16 17 18 19\n",
            "20 21 22 23 24 25 26\n",
            "27 28 29 30 31\n",
            "\n"
          ]
        }
      ]
    },
    {
      "cell_type": "markdown",
      "source": [
        " Write a Python program to solve quadratic equation."
      ],
      "metadata": {
        "id": "L3wfw54C4XLS"
      }
    },
    {
      "cell_type": "code",
      "source": [
        "import math\n",
        "\n",
        "print('a*x*x + b*x + c = 0')\n",
        "a = float(input(\"Input a: \"))\n",
        "b = float(input(\"Input b: \"))\n",
        "c = float(input(\"Input c: \"))\n",
        "\n",
        "discriminant = b**2 - 4*a*c\n",
        "\n",
        "if discriminant > 0:\n",
        "  root1 = (-b+math.sqrt(discriminant))/(2*a)\n",
        "  root2 = (-b-math.sqrt(discriminant))/(2*a)\n",
        "\n",
        "  print(f\"Root 1 : {root1}\")\n",
        "  print(f\"Root 2 : {root2}\")\n",
        "\n",
        "elif discriminant == 0:\n",
        "  root = -b/(2*a)\n",
        "\n",
        "  print(f\"Root : {root}\")\n",
        "\n",
        "else:\n",
        "  real_part = -b/(2*a)\n",
        "  imaginary_part = math.sqrt(abs(discriminant)) / 2*a\n",
        "  print(f\"Root 1: {real_part} + {imaginary_part}i\")\n",
        "  print(f\"Root 2: {real_part} - {imaginary_part}i\")"
      ],
      "metadata": {
        "colab": {
          "base_uri": "https://localhost:8080/"
        },
        "id": "ahjk1aQl4Ldf",
        "outputId": "d16b5be3-9159-4920-fb2f-b891a961e2a1"
      },
      "execution_count": null,
      "outputs": [
        {
          "output_type": "stream",
          "name": "stdout",
          "text": [
            "a*x*x + b*x + c = 0\n",
            "Input a: 1\n",
            "Input b: 4\n",
            "Input c: 8\n",
            "Root 1: -2.0 + 2.0i\n",
            "Root 2: -2.0 - 2.0i\n"
          ]
        }
      ]
    },
    {
      "cell_type": "markdown",
      "source": [
        " Write a Python program to swap two variables without temp variable."
      ],
      "metadata": {
        "id": "uuaRTrdK7Zat"
      }
    },
    {
      "cell_type": "code",
      "source": [
        "a = 10\n",
        "b = 20\n",
        "a,b = b,a\n",
        "print(a,b)"
      ],
      "metadata": {
        "colab": {
          "base_uri": "https://localhost:8080/"
        },
        "id": "qSoQEVmq7NS9",
        "outputId": "6c7fecd8-36bc-4b3a-b577-c952cf170c16"
      },
      "execution_count": null,
      "outputs": [
        {
          "output_type": "stream",
          "name": "stdout",
          "text": [
            "20 10\n"
          ]
        }
      ]
    },
    {
      "cell_type": "markdown",
      "source": [
        "Write a Python Program to Check if a Number is Positive, Negative or Zero."
      ],
      "metadata": {
        "id": "TuLMeIxplQYm"
      }
    },
    {
      "cell_type": "code",
      "source": [
        "num = float(input(\"Enter a number: \"))\n",
        "if num > 0:\n",
        "  print(\"Positive number\")\n",
        "elif num == 0:\n",
        "  print(\"Zero\")\n",
        "else:\n",
        "  print(\"Negative number\")"
      ],
      "metadata": {
        "colab": {
          "base_uri": "https://localhost:8080/"
        },
        "id": "iFKhQL7blFQo",
        "outputId": "f96fed11-d964-4a5d-8cd0-2e08da7241bf"
      },
      "execution_count": null,
      "outputs": [
        {
          "output_type": "stream",
          "name": "stdout",
          "text": [
            "Enter a number: 20\n",
            "Positive number\n"
          ]
        }
      ]
    },
    {
      "cell_type": "markdown",
      "source": [
        "Write a Python Program to Check if a Number is Odd or Even."
      ],
      "metadata": {
        "id": "KhPjdwsDj05Y"
      }
    },
    {
      "cell_type": "code",
      "source": [
        "number = float(input(\"Enter the number: \"))\n",
        "if number%2 == 0:\n",
        "    print(\"Even\")\n",
        "else:\n",
        "    print(\"Odd\")"
      ],
      "metadata": {
        "colab": {
          "base_uri": "https://localhost:8080/"
        },
        "id": "CYBlOJCFkKR-",
        "outputId": "ed797843-a0a4-41a3-8891-c43d48addcab"
      },
      "execution_count": null,
      "outputs": [
        {
          "output_type": "stream",
          "name": "stdout",
          "text": [
            "Enter the number: 10\n",
            "Even\n"
          ]
        }
      ]
    },
    {
      "cell_type": "markdown",
      "source": [
        "Write a Python Program to Check Leap Year."
      ],
      "metadata": {
        "id": "HXh2JO6GDrba"
      }
    },
    {
      "cell_type": "code",
      "source": [
        "year = int(input(\"Enter the year: \"))\n",
        "\n",
        "if(year % 400 == 0) and (year % 100 ==0):\n",
        "  print(\"{0} is a leap year\".format(year))\n",
        "elif (year %4 == 0) and (year % 100 != 0):\n",
        "  print(\"{0} is a leap year\".format(year))\n",
        "else:\n",
        "  print(\"{0} is not a leap year\".format(year))"
      ],
      "metadata": {
        "id": "j2hoUpV4k7fA",
        "colab": {
          "base_uri": "https://localhost:8080/"
        },
        "outputId": "cd0ed651-2b66-4249-948b-4e965685b286"
      },
      "execution_count": null,
      "outputs": [
        {
          "output_type": "stream",
          "name": "stdout",
          "text": [
            "Enter the year: 2000\n",
            "2000 is a leap year\n"
          ]
        }
      ]
    },
    {
      "cell_type": "markdown",
      "source": [
        "Write a Python Program to Check Prime Number."
      ],
      "metadata": {
        "id": "hgJP7haRGl4G"
      }
    },
    {
      "cell_type": "code",
      "source": [
        "num = int(input(\"Inter the number: \"))\n",
        "\n",
        "flag = False\n",
        "\n",
        "if num == 1:\n",
        "  print(\"{0} is not a prime number\".format(num))\n",
        "elif num > 1:\n",
        "  for i in range(2,num):\n",
        "    if(num % i) == 0:\n",
        "      flag = True\n",
        "      break\n",
        "\n",
        "if flag:\n",
        "  print(\"Yes\")\n",
        "else:\n",
        "  print(\"No\")\n",
        "\n"
      ],
      "metadata": {
        "colab": {
          "base_uri": "https://localhost:8080/"
        },
        "id": "KbPvrdr0FtTW",
        "outputId": "f3a4a9f7-acfc-4e8f-a089-e10c5926cbd6"
      },
      "execution_count": null,
      "outputs": [
        {
          "output_type": "stream",
          "name": "stdout",
          "text": [
            "Inter the number: 1\n",
            "1 is not a prime number\n",
            "No\n"
          ]
        }
      ]
    },
    {
      "cell_type": "markdown",
      "source": [
        "Write a Python Program to Print all Prime Numbers in an Interval of 1-10."
      ],
      "metadata": {
        "id": "WKi9A82vNI1f"
      }
    },
    {
      "cell_type": "code",
      "source": [
        "lower = 1\n",
        "upper = 10\n",
        "\n",
        "for num in range(lower,upper+1):\n",
        "   if num>1:\n",
        "    for i in range(2,num):\n",
        "      if(num%i == 0):\n",
        "        break\n",
        "    else:\n",
        "      print(num)"
      ],
      "metadata": {
        "id": "36Ys8nfBMzJq",
        "colab": {
          "base_uri": "https://localhost:8080/"
        },
        "outputId": "d5bb1c70-a8c7-44b8-edbe-9a552d003745"
      },
      "execution_count": null,
      "outputs": [
        {
          "output_type": "stream",
          "name": "stdout",
          "text": [
            "2\n",
            "3\n",
            "5\n",
            "7\n"
          ]
        }
      ]
    },
    {
      "cell_type": "markdown",
      "source": [
        " Write a Python Program to Find the Factorial of a Number."
      ],
      "metadata": {
        "id": "WO1uM69RhrKc"
      }
    },
    {
      "cell_type": "code",
      "source": [
        "num = int(input(\"Enter a number: \"))\n",
        "\n",
        "factorial = 1\n",
        "\n",
        "if num < 0:\n",
        "  print(\"Factorial does not exist for negative number\")\n",
        "elif num == 0:\n",
        "  print(1)\n",
        "else:\n",
        "  for i in range(i,num+1):\n",
        "    factorial = factorial*i\n",
        "    print(factorial)"
      ],
      "metadata": {
        "colab": {
          "base_uri": "https://localhost:8080/"
        },
        "id": "8iQofOinhhf_",
        "outputId": "8ad92f89-4ae8-41c8-8b23-0073183cb9cb"
      },
      "execution_count": null,
      "outputs": [
        {
          "output_type": "stream",
          "name": "stdout",
          "text": [
            "Enter a number: 0\n",
            "1\n",
            "1\n"
          ]
        }
      ]
    },
    {
      "cell_type": "markdown",
      "source": [
        "Write a Python Program to Display the multiplication Table."
      ],
      "metadata": {
        "id": "HEDrCe3kinDZ"
      }
    },
    {
      "cell_type": "code",
      "source": [
        "num = int(input(\"Enter the number: \"))\n",
        "\n",
        "for i in range(1,10):\n",
        "  print(f\"{num} X {i} : {num*i}\")"
      ],
      "metadata": {
        "colab": {
          "base_uri": "https://localhost:8080/"
        },
        "id": "cmFGnjoniY8u",
        "outputId": "2db3a2aa-fcf4-4399-d89c-b243878c5199"
      },
      "execution_count": null,
      "outputs": [
        {
          "output_type": "stream",
          "name": "stdout",
          "text": [
            "Enter the number: 12\n",
            "12 X 1 = 12\n",
            "12 X 2 = 24\n",
            "12 X 3 = 36\n",
            "12 X 4 = 48\n",
            "12 X 5 = 60\n",
            "12 X 6 = 72\n",
            "12 X 7 = 84\n",
            "12 X 8 = 96\n",
            "12 X 9 = 108\n",
            "12 X 10 = 120\n"
          ]
        }
      ]
    },
    {
      "cell_type": "markdown",
      "source": [
        "Write a Python Program to Print the Fibonacci sequence."
      ],
      "metadata": {
        "id": "pe0CSp3sobmW"
      }
    },
    {
      "cell_type": "code",
      "source": [
        "def fibonacci(num):\n",
        "   a,b = 0,1\n",
        "   for _ in range(num+1):\n",
        "    print(a,end=\" \")\n",
        "    a,b = b,a+b\n",
        "\n",
        "fibonacci(20)\n"
      ],
      "metadata": {
        "colab": {
          "base_uri": "https://localhost:8080/"
        },
        "id": "qiF26GCRkLDY",
        "outputId": "74f56729-5396-4241-8846-15615d1a7d9f"
      },
      "execution_count": null,
      "outputs": [
        {
          "output_type": "stream",
          "name": "stdout",
          "text": [
            "0 1 1 2 3 5 8 13 21 34 55 89 144 233 377 610 987 1597 2584 4181 6765 "
          ]
        }
      ]
    },
    {
      "cell_type": "markdown",
      "source": [
        "Write a Python Program to Check Armstrong Number?"
      ],
      "metadata": {
        "id": "cK9oaZoJkF6Q"
      }
    },
    {
      "cell_type": "code",
      "source": [
        "num = int(input(\"Enter a number: \"))\n",
        "\n",
        "size = len(str(num))\n",
        "\n",
        "sum_of_powers = 0\n",
        "tem = num\n",
        "\n",
        "while(tem > 0):\n",
        "  digit = tem % 10\n",
        "  sum_of_powers += digit ** size\n",
        "  tem //= 10\n",
        "\n",
        "if sum_of_powers == num:\n",
        "  print(\"Yes\")\n",
        "else:\n",
        "  print(\"No\")"
      ],
      "metadata": {
        "colab": {
          "base_uri": "https://localhost:8080/"
        },
        "id": "v1MOaZU9ofhB",
        "outputId": "fff5b414-4b3f-416c-a622-323af3961ce0"
      },
      "execution_count": null,
      "outputs": [
        {
          "output_type": "stream",
          "name": "stdout",
          "text": [
            "Enter a number: 9474\n",
            "Yes\n"
          ]
        }
      ]
    },
    {
      "cell_type": "markdown",
      "source": [
        "Write a Python Program to Find Armstrong Number in an Interval."
      ],
      "metadata": {
        "id": "MXt8LIFXplfG"
      }
    },
    {
      "cell_type": "code",
      "source": [
        "def searh_armstrong(num):\n",
        "  size = len(str(num))\n",
        "\n",
        "  sum_of_powers = 0\n",
        "  tem = num\n",
        "\n",
        "  while(tem > 0):\n",
        "    digit = tem % 10\n",
        "    sum_of_powers += digit ** size\n",
        "    tem //= 10\n",
        "\n",
        "  if sum_of_powers == num:\n",
        "    print(num)\n",
        "\n",
        "num1 = int(input(\"Enter the lower value for starting : \"))\n",
        "num2 = int(input(\"Enter the upper value for starting : \"))\n",
        "for i in range(num1,num2+1):\n",
        "  searh_armstrong(i)"
      ],
      "metadata": {
        "colab": {
          "base_uri": "https://localhost:8080/"
        },
        "id": "LTW4238GpfTH",
        "outputId": "ee5fb43b-9144-4cef-8f44-acc47f8f40ff"
      },
      "execution_count": null,
      "outputs": [
        {
          "output_type": "stream",
          "name": "stdout",
          "text": [
            "Enter the lower value for starting : 10\n",
            "Enter the upper value for starting : 1000\n",
            "153\n",
            "370\n",
            "371\n",
            "407\n"
          ]
        }
      ]
    },
    {
      "cell_type": "markdown",
      "source": [
        " Write a Python Program to Find the Sum of Natural Numbers."
      ],
      "metadata": {
        "id": "4UGmxa_arSWW"
      }
    },
    {
      "cell_type": "code",
      "source": [
        "n=10\n",
        "print((int(int(n*(n+1))/2)))"
      ],
      "metadata": {
        "colab": {
          "base_uri": "https://localhost:8080/"
        },
        "id": "250YzVaoqNE8",
        "outputId": "5d4a1db9-068a-4a74-b077-4d2df2074e21"
      },
      "execution_count": null,
      "outputs": [
        {
          "output_type": "stream",
          "name": "stdout",
          "text": [
            "55\n"
          ]
        }
      ]
    },
    {
      "cell_type": "markdown",
      "source": [
        "Write a Python Program to Find LCM."
      ],
      "metadata": {
        "id": "lKIa6YrFr8kI"
      }
    },
    {
      "cell_type": "code",
      "source": [
        "def compute_lcm(x,y):\n",
        "  if x<y:\n",
        "    greater = y\n",
        "  else:\n",
        "    greater = x\n",
        "\n",
        "  while(True):\n",
        "    if((greater % x == 0) and (greater % y == 0)):\n",
        "      lcm = greater\n",
        "      break\n",
        "    greater+=1\n",
        "\n",
        "  return lcm\n",
        "\n",
        "num1 = int(input(\"Enter a number1: \"))\n",
        "num2 = int(input(\"Enter a number2: \"))\n",
        "compute_lcm(num1,num2)\n"
      ],
      "metadata": {
        "colab": {
          "base_uri": "https://localhost:8080/"
        },
        "id": "QBu0wyHmrsXE",
        "outputId": "adfd08a1-952f-4f5e-f14f-bbb038b6b9e8"
      },
      "execution_count": null,
      "outputs": [
        {
          "name": "stdout",
          "output_type": "stream",
          "text": [
            "Enter a number1: 10\n",
            "Enter a number2: 8\n"
          ]
        },
        {
          "output_type": "execute_result",
          "data": {
            "text/plain": [
              "40"
            ]
          },
          "metadata": {},
          "execution_count": 33
        }
      ]
    },
    {
      "cell_type": "markdown",
      "source": [
        " Write a Python Program to Find HCF\n",
        "\n",
        "\n"
      ],
      "metadata": {
        "id": "s7bQkhtgysmS"
      }
    },
    {
      "cell_type": "code",
      "source": [
        "def compute_hcf(x,y):\n",
        "  if x<y:\n",
        "    smaller = x\n",
        "  else:\n",
        "    smaller = y\n",
        "  for i in range(1,smaller+1):\n",
        "    if((x%i == 0) and (y%i == 0)):\n",
        "      hcf = i\n",
        "  return hcf\n",
        "\n",
        "\n",
        "num1 = int(input(\"Enter a number1: \"))\n",
        "num2 = int(input(\"Enter a number2: \"))\n",
        "compute_hcf(num1,num2)"
      ],
      "metadata": {
        "colab": {
          "base_uri": "https://localhost:8080/"
        },
        "id": "IMIRqXgayNOG",
        "outputId": "085d85e6-5f2d-465d-af5e-20ce5b6b8308"
      },
      "execution_count": null,
      "outputs": [
        {
          "name": "stdout",
          "output_type": "stream",
          "text": [
            "Enter a number1: 10\n",
            "Enter a number2: 8\n"
          ]
        },
        {
          "output_type": "execute_result",
          "data": {
            "text/plain": [
              "2"
            ]
          },
          "metadata": {},
          "execution_count": 39
        }
      ]
    },
    {
      "cell_type": "markdown",
      "source": [
        " Write a Python Program to Convert Decimal to Binary, Octal and Hexadecimal."
      ],
      "metadata": {
        "id": "kDd_9Fj61wPz"
      }
    },
    {
      "cell_type": "code",
      "source": [
        "print(bin(10))\n",
        "print(oct(10))\n",
        "print(hex(10))"
      ],
      "metadata": {
        "colab": {
          "base_uri": "https://localhost:8080/"
        },
        "id": "1vqCvq5JyuOP",
        "outputId": "599687ef-cd30-4733-f8ab-04d2d6fe1114"
      },
      "execution_count": null,
      "outputs": [
        {
          "output_type": "stream",
          "name": "stdout",
          "text": [
            "0b1010\n",
            "0o12\n",
            "0xa\n"
          ]
        }
      ]
    },
    {
      "cell_type": "markdown",
      "source": [
        "Write a Python Program To Find ASCII value of a character."
      ],
      "metadata": {
        "id": "0fZJGKz31_l8"
      }
    },
    {
      "cell_type": "code",
      "source": [
        "print(ord(\"a\"))"
      ],
      "metadata": {
        "colab": {
          "base_uri": "https://localhost:8080/"
        },
        "id": "zJ_K-I_g10Mp",
        "outputId": "b2332d56-48e1-4190-fd11-5b4805ebea4d"
      },
      "execution_count": null,
      "outputs": [
        {
          "output_type": "stream",
          "name": "stdout",
          "text": [
            "97\n"
          ]
        }
      ]
    },
    {
      "cell_type": "markdown",
      "source": [
        "Write a Python Program to Make a Simple Calculator with 4 basic mathematical\n",
        " operations."
      ],
      "metadata": {
        "id": "8ghlorlf2VJw"
      }
    },
    {
      "cell_type": "code",
      "source": [
        "def add(x, y):\n",
        "    return x + y\n",
        "\n",
        "def subtract(x, y):\n",
        "    return x - y\n",
        "\n",
        "def multiply(x, y):\n",
        "    return x * y\n",
        "\n",
        "def divide(x, y):\n",
        "    return x / y\n",
        "\n",
        "print(\"Select operation:\")\n",
        "print(\"1.Add\")\n",
        "print(\"2.Subtract\")\n",
        "print(\"3.Multiply\")\n",
        "print(\"4.Divide\")\n",
        "\n",
        "choice = input(\"Enter choice (1/2/3/4): \")\n",
        "num1 = float(input(\"Enter first number: \"))\n",
        "num2 = float(input(\"Enter second number: \"))\n",
        "\n",
        "if choice == '1':\n",
        "    print(add(num1, num2))\n",
        "elif choice == '2':\n",
        "    print(subtract(num1, num2))\n",
        "elif choice == '3':\n",
        "    print(multiply(num1, num2))\n",
        "elif choice == '4':\n",
        "    if num2 != 0:\n",
        "        print(divide(num1, num2))\n",
        "    else:\n",
        "        print(\"Error: Division by zero\")\n",
        "else:\n",
        "    print(\"Invalid input\")\n"
      ],
      "metadata": {
        "colab": {
          "base_uri": "https://localhost:8080/"
        },
        "id": "TjjqTQnW2SAH",
        "outputId": "75335ca5-dd8a-4dbb-8f89-a5581d90d9bf"
      },
      "execution_count": null,
      "outputs": [
        {
          "output_type": "stream",
          "name": "stdout",
          "text": [
            "Select operation:\n",
            "1.Add\n",
            "2.Subtract\n",
            "3.Multiply\n",
            "4.Divide\n",
            "Enter choice (1/2/3/4): 1\n",
            "Enter first number: 1\n",
            "Enter second number: 1\n",
            "2.0\n"
          ]
        }
      ]
    },
    {
      "cell_type": "markdown",
      "source": [
        " Write a Python Program to Display Fibonacci Sequence Using Recursion."
      ],
      "metadata": {
        "id": "s9iAwI3Q3SFV"
      }
    },
    {
      "cell_type": "code",
      "source": [
        "def fibonacci_recur(n):\n",
        "  if n<=1 :\n",
        "    return n\n",
        "  else:\n",
        "    return fibonacci_recur(n-1)+fibonacci_recur(n-2)\n",
        "\n",
        "\n",
        "\n",
        "lst = []\n",
        "\n",
        "for i in range(0,10+1):\n",
        "  lst.append(fibonacci_recur(i))\n",
        "\n",
        "print(lst)"
      ],
      "metadata": {
        "colab": {
          "base_uri": "https://localhost:8080/"
        },
        "id": "15ueJPvz3D6H",
        "outputId": "90b9537a-c71f-4358-c683-b3a40f3be205"
      },
      "execution_count": null,
      "outputs": [
        {
          "output_type": "stream",
          "name": "stdout",
          "text": [
            "[0, 1, 1, 2, 3, 5, 8, 13, 21, 34, 55]\n"
          ]
        }
      ]
    },
    {
      "cell_type": "markdown",
      "source": [
        " Write a Python Program for array rotation."
      ],
      "metadata": {
        "id": "C9Up8smW6ECz"
      }
    },
    {
      "cell_type": "code",
      "source": [
        "def rotating(arr,d):\n",
        "  n = len(arr)\n",
        "\n",
        "  rotated_arr =[0]*n\n",
        "\n",
        "  for i in range(n):\n",
        "    rotated_arr[i] = arr[(i+d)%n]\n",
        "\n",
        "  return rotated_arr\n",
        "\n",
        "arr = [1,2,3,4,5,6,7,8,9,10]\n",
        "rotating(arr,4)"
      ],
      "metadata": {
        "colab": {
          "base_uri": "https://localhost:8080/"
        },
        "id": "65a1swpm4CTn",
        "outputId": "2d9ecf80-ae52-4fbb-c802-883f2ce8e4b8"
      },
      "execution_count": null,
      "outputs": [
        {
          "output_type": "execute_result",
          "data": {
            "text/plain": [
              "[5, 6, 7, 8, 9, 10, 1, 2, 3, 4]"
            ]
          },
          "metadata": {},
          "execution_count": 56
        }
      ]
    },
    {
      "cell_type": "markdown",
      "source": [
        " Write a Python Program to Split the array and add the first part to the end?"
      ],
      "metadata": {
        "id": "myVZFodg8v59"
      }
    },
    {
      "cell_type": "code",
      "source": [
        "def split_arr(arr,k):\n",
        "  return arr[k:]+arr[:k]\n",
        "\n",
        "print(split_arr([1,2,3,4,5],3))"
      ],
      "metadata": {
        "colab": {
          "base_uri": "https://localhost:8080/"
        },
        "id": "j0EyE03u60UF",
        "outputId": "711fbd56-4cb6-45f8-c8ee-d3254fae0109"
      },
      "execution_count": null,
      "outputs": [
        {
          "output_type": "stream",
          "name": "stdout",
          "text": [
            "[4, 5, 1, 2, 3]\n"
          ]
        }
      ]
    },
    {
      "cell_type": "markdown",
      "source": [
        " Write a Python Program to check if given array is Monotonic.\n"
      ],
      "metadata": {
        "id": "ye5Rzd2j9b3Z"
      }
    },
    {
      "cell_type": "code",
      "source": [
        "def is_monotonic(arr):\n",
        "  increasing = decreasing = True\n",
        "\n",
        "  for i in range(1, len(arr)):\n",
        "    if arr[i] > arr[i-1]:\n",
        "      decreasing = False\n",
        "    elif arr[i] > arr[i-1]:\n",
        "      increasing = False\n",
        "\n",
        "  return increasing or decreasing\n",
        "\n",
        "print(is_monotonic([1,2,2,3,4]))"
      ],
      "metadata": {
        "colab": {
          "base_uri": "https://localhost:8080/"
        },
        "id": "mT1vTqkG9CLe",
        "outputId": "9177a1b8-9a27-4f9a-f496-28879c2ef5bf"
      },
      "execution_count": null,
      "outputs": [
        {
          "output_type": "stream",
          "name": "stdout",
          "text": [
            "True\n"
          ]
        }
      ]
    },
    {
      "cell_type": "markdown",
      "source": [
        "Write a Python Program to Sort Words in Alphabetic Order."
      ],
      "metadata": {
        "id": "hMX5n-KcAYTn"
      }
    },
    {
      "cell_type": "code",
      "source": [
        "my_str = input(\"Enter a string\")\n",
        "\n",
        "words = my_str.split()\n",
        "# words = [word.capitalize() for word in my_str.split()]\n",
        "\n",
        "words.sort()\n",
        "\n",
        "for word in words:\n",
        "  print(word)"
      ],
      "metadata": {
        "colab": {
          "base_uri": "https://localhost:8080/"
        },
        "id": "LyvTt_KH-9le",
        "outputId": "3484385e-7387-4402-c509-890f26b0be7d"
      },
      "execution_count": null,
      "outputs": [
        {
          "output_type": "stream",
          "name": "stdout",
          "text": [
            "Enter a stringWho are you\n",
            "Who\n",
            "are\n",
            "you\n"
          ]
        }
      ]
    },
    {
      "cell_type": "markdown",
      "source": [
        "Write a Python Program to Remove Punctuation From a String."
      ],
      "metadata": {
        "id": "i5JMgZy5B--i"
      }
    },
    {
      "cell_type": "code",
      "source": [
        "from string import punctuation\n",
        "punctuation\n",
        "\n",
        "my_str = input(\"Enter a string : \")\n",
        "\n",
        "none_punc = \"\"\n",
        "\n",
        "for char in my_str:\n",
        "  if char not in punctuation:\n",
        "    none_punc = none_punc+char\n",
        "\n",
        "print(none_punc)"
      ],
      "metadata": {
        "colab": {
          "base_uri": "https://localhost:8080/"
        },
        "id": "vP8Mo5CpA86q",
        "outputId": "6f41b836-6b40-403a-ea1f-1dd71a7a2bbb"
      },
      "execution_count": null,
      "outputs": [
        {
          "output_type": "stream",
          "name": "stdout",
          "text": [
            "Enter a stringHello!!!, he said ---and went\n",
            "Hello he said and went\n"
          ]
        }
      ]
    },
    {
      "cell_type": "code",
      "source": [
        "my_str2 = input(\"Enter a string\")\n",
        "\n",
        "words = [word.capitalize() for word in my_str2.split()]\n",
        "\n",
        "words.sort()\n",
        "\n",
        "for word in words:\n",
        "  print(word)\n"
      ],
      "metadata": {
        "id": "iFjf6gTTCDHw",
        "colab": {
          "base_uri": "https://localhost:8080/"
        },
        "outputId": "3b57f679-1fe5-43de-d471-362fc83ef30a"
      },
      "execution_count": 2,
      "outputs": [
        {
          "output_type": "stream",
          "name": "stdout",
          "text": [
            "Enter a stringHello I am\n",
            "Am\n",
            "Hello\n",
            "I\n"
          ]
        }
      ]
    },
    {
      "cell_type": "code",
      "source": [
        "from string import punctuation\n",
        "\n",
        "my_str3 = input(\"Input a string : \")\n",
        "none_punc = ''\n",
        "\n",
        "for char in my_str3:\n",
        "  if char not in punctuation:\n",
        "    none_punc += char\n",
        "\n",
        "print(none_punc)\n"
      ],
      "metadata": {
        "colab": {
          "base_uri": "https://localhost:8080/"
        },
        "id": "WY4-b-S5b0jv",
        "outputId": "43b2aa08-d457-421f-9084-f975ca132ac6"
      },
      "execution_count": 3,
      "outputs": [
        {
          "output_type": "stream",
          "name": "stdout",
          "text": [
            "Input a string : Hello!!!, he said ---and went\n",
            "Hello he said and went\n"
          ]
        }
      ]
    },
    {
      "cell_type": "markdown",
      "source": [
        "Write a Python program to check if the given number is a Disarium Number."
      ],
      "metadata": {
        "id": "7u80WKb6dTHE"
      }
    },
    {
      "cell_type": "code",
      "source": [
        "def is_disarium(num):\n",
        "  len1 = str(num)\n",
        "\n",
        "  digit_sum = sum(int(i)** (index+1) for index, i in enumerate(len1))\n",
        "\n",
        "  return digit_sum == num\n",
        "\n",
        "print(is_disarium(89))"
      ],
      "metadata": {
        "colab": {
          "base_uri": "https://localhost:8080/"
        },
        "id": "eyq7T5E_cky0",
        "outputId": "edd503d8-308a-4fab-ce73-05fd8d23eafe"
      },
      "execution_count": 8,
      "outputs": [
        {
          "output_type": "stream",
          "name": "stdout",
          "text": [
            "True\n"
          ]
        }
      ]
    },
    {
      "cell_type": "code",
      "source": [
        "print(int(input()) == sum(int(i)** (index+1) for index, i in enumerate(str(input()))))"
      ],
      "metadata": {
        "colab": {
          "base_uri": "https://localhost:8080/"
        },
        "id": "NEmMenSrd9pa",
        "outputId": "880a81fc-092a-4ded-f11f-a253f2d000e2"
      },
      "execution_count": 10,
      "outputs": [
        {
          "output_type": "stream",
          "name": "stdout",
          "text": [
            "89\n",
            "89\n",
            "True\n"
          ]
        }
      ]
    },
    {
      "cell_type": "markdown",
      "source": [
        "Write a Python program to print all disarium numbers between 1 to 100."
      ],
      "metadata": {
        "id": "SZ2fQRTJftWl"
      }
    },
    {
      "cell_type": "code",
      "source": [
        "for j in range(1,101):\n",
        "  if(j) == sum(int(i)** (index+1) for index, i in enumerate(str(j))):\n",
        "    print(j)"
      ],
      "metadata": {
        "colab": {
          "base_uri": "https://localhost:8080/"
        },
        "id": "CXpI_amue_WL",
        "outputId": "8fa8b8aa-a904-42e6-8b28-8c99279008f6"
      },
      "execution_count": 12,
      "outputs": [
        {
          "output_type": "stream",
          "name": "stdout",
          "text": [
            "1\n",
            "2\n",
            "3\n",
            "4\n",
            "5\n",
            "6\n",
            "7\n",
            "8\n",
            "9\n",
            "89\n"
          ]
        }
      ]
    },
    {
      "cell_type": "markdown",
      "source": [
        "Write a Python program to check if the given number is Happy Number."
      ],
      "metadata": {
        "id": "_QB-7ZmhfyBt"
      }
    },
    {
      "cell_type": "code",
      "source": [
        "def is_happy(num):\n",
        "  seen = set()\n",
        "\n",
        "  while num != 1 and num not in seen:\n",
        "    seen.add(num)\n",
        "    num = sum(int(i)** 2 for i in str(num))\n",
        "\n",
        "  return num == 1\n",
        "\n",
        "print(is_happy(19))"
      ],
      "metadata": {
        "colab": {
          "base_uri": "https://localhost:8080/"
        },
        "id": "BW_DtjDffe3c",
        "outputId": "53ac24c6-101e-4e1f-cb02-931975e8e2bc"
      },
      "execution_count": 15,
      "outputs": [
        {
          "output_type": "stream",
          "name": "stdout",
          "text": [
            "True\n"
          ]
        }
      ]
    },
    {
      "cell_type": "markdown",
      "source": [
        "Write a Python program to print all happy numbers between 1 and 100."
      ],
      "metadata": {
        "id": "36LttgNNfxT-"
      }
    },
    {
      "cell_type": "code",
      "source": [
        "for i in range(1,101):\n",
        "  if(is_happy(i)):\n",
        "    print(i)"
      ],
      "metadata": {
        "colab": {
          "base_uri": "https://localhost:8080/"
        },
        "id": "woWXM6nPhdWN",
        "outputId": "bf8ed2a3-b1dd-42ee-d8ba-20202d2af1b6"
      },
      "execution_count": 16,
      "outputs": [
        {
          "output_type": "stream",
          "name": "stdout",
          "text": [
            "1\n",
            "7\n",
            "10\n",
            "13\n",
            "19\n",
            "23\n",
            "28\n",
            "31\n",
            "32\n",
            "44\n",
            "49\n",
            "68\n",
            "70\n",
            "79\n",
            "82\n",
            "86\n",
            "91\n",
            "94\n",
            "97\n",
            "100\n"
          ]
        }
      ]
    },
    {
      "cell_type": "markdown",
      "source": [
        " Write a Python program to determine whether the given number is a Harshad\n",
        " Number."
      ],
      "metadata": {
        "id": "iCGiJPLVhxrj"
      }
    },
    {
      "cell_type": "code",
      "source": [
        "def is_harshad(num):\n",
        "  digit_sum = sum(int(i) for i in str(num))\n",
        "\n",
        "  return num % digit_sum == 0\n",
        "\n",
        "print(is_harshad(42))"
      ],
      "metadata": {
        "colab": {
          "base_uri": "https://localhost:8080/"
        },
        "id": "6HHTNP7-hl39",
        "outputId": "3d7dd00c-fd23-475b-f469-521f224a04c3"
      },
      "execution_count": 18,
      "outputs": [
        {
          "output_type": "stream",
          "name": "stdout",
          "text": [
            "True\n"
          ]
        }
      ]
    },
    {
      "cell_type": "markdown",
      "source": [
        "Write a Python program to print all pronic numbers between 1 and 100."
      ],
      "metadata": {
        "id": "FFcZHI_JkWiq"
      }
    },
    {
      "cell_type": "code",
      "source": [
        "def is_pronic(num):\n",
        "  for n in range(1,int(num**.5)+1):\n",
        "    if n*(n+1) == num:\n",
        "      return True\n",
        "  return False\n",
        "\n",
        "for i in range(1,101):\n",
        "  if(is_pronic(i)):\n",
        "    print(i)"
      ],
      "metadata": {
        "colab": {
          "base_uri": "https://localhost:8080/"
        },
        "id": "WLfCQgifiNnS",
        "outputId": "4addc152-b308-4f3f-dfb4-1ad06c90d242"
      },
      "execution_count": 19,
      "outputs": [
        {
          "output_type": "stream",
          "name": "stdout",
          "text": [
            "2\n",
            "6\n",
            "12\n",
            "20\n",
            "30\n",
            "42\n",
            "56\n",
            "72\n",
            "90\n"
          ]
        }
      ]
    },
    {
      "cell_type": "code",
      "source": [
        "def find_n_largest_element(lst,n):\n",
        "  sorted_lst = sorted(lst,reverse=True)\n",
        "\n",
        "  largest_elements = sorted_lst[:n]\n",
        "\n",
        "  return largest_elements\n",
        "\n",
        "numbers = [30, 10, 45, 5, 20, 50, 15, 3, 345, 54, 67, 87, 98, 100, 34]\n",
        "\n",
        "N = int(input(\"N = \"))\n",
        "\n",
        "print(find_n_largest_element(numbers,N))"
      ],
      "metadata": {
        "colab": {
          "base_uri": "https://localhost:8080/"
        },
        "id": "1aq2WKL0lGsI",
        "outputId": "af4d8204-d8f6-4c60-f3ea-b50162e16593"
      },
      "execution_count": 23,
      "outputs": [
        {
          "output_type": "stream",
          "name": "stdout",
          "text": [
            "N = 5\n",
            "[345, 100, 98, 87, 67]\n"
          ]
        }
      ]
    },
    {
      "cell_type": "code",
      "source": [],
      "metadata": {
        "id": "-9NmqkFZm9v6"
      },
      "execution_count": null,
      "outputs": []
    }
  ]
}